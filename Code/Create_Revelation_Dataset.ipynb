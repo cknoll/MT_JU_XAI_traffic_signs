{
 "cells": [
  {
   "cell_type": "code",
   "execution_count": 13,
   "id": "233add62",
   "metadata": {},
   "outputs": [
    {
     "name": "stdout",
     "output_type": "stream",
     "text": [
      "The autoreload extension is already loaded. To reload it, use:\n",
      "  %reload_ext autoreload\n"
     ]
    }
   ],
   "source": [
    "%load_ext autoreload\n",
    "%autoreload 2\n",
    "\n",
    "## Standard libraries\n",
    "import os\n",
    "from collections import defaultdict\n",
    "\n",
    "# 3rd party libraries\n",
    "import numpy as np\n",
    "import matplotlib.pyplot as plt\n",
    "from PIL import Image\n",
    "\n",
    "## PyTorch\n",
    "import torch.nn.functional as F\n",
    "import torch\n",
    "\n",
    "## our own modules\n",
    "from utils import get_percentage_of_image, normalize_image, generate_adversarial_examples, create_image_dict, read_conf_from_dotenv, get_dir_path\n",
    "\n",
    "conf = read_conf_from_dotenv()\n"
   ]
  },
  {
   "cell_type": "code",
   "execution_count": null,
   "id": "3bd4447e",
   "metadata": {},
   "outputs": [],
   "source": [
    "# Constants for Model and XAI Configuration\n",
    "MODEL_TYPE = \"convnext_tiny\"  # Model architecture being used\n",
    "XAI_TYPE = \"gradcam\"  # XAI method being applied\n",
    "\n",
    "# Base directory for dataset and output paths\n",
    "BASE_DIR = conf.BASE_DIR\n",
    "DATASET = \"atsds_large\"\n",
    "DATASET_SPLIT = \"test\"\n",
    "\n",
    "# Paths for dataset and associated outputs\n",
    "GROUND_TRUTH_DIR = get_dir_path(BASE_DIR, f\"{DATASET}_mask\", DATASET_SPLIT)\n",
    "BACKGROUND_DIR = get_dir_path(BASE_DIR, f\"{DATASET}_background\", DATASET_SPLIT)\n",
    "DATASET_DIR = get_dir_path(BASE_DIR, DATASET, DATASET_SPLIT)\n",
    "XAI_DIR = get_dir_path(BASE_DIR, \"auswertung_hpc\", \"auswertung\", MODEL_TYPE, XAI_TYPE, DATASET_SPLIT)\n",
    "ADV_FOLDER = get_dir_path(BASE_DIR, \"auswertung_hpc\", \"auswertung\", MODEL_TYPE, XAI_TYPE, \"adversarial\")\n"
   ]
  },
  {
   "cell_type": "code",
   "execution_count": 16,
   "id": "ef12beec",
   "metadata": {},
   "outputs": [],
   "source": [
    "# Create folder structure for Revelation Dataset\n",
    "CATEGORIES, imagedict = create_image_dict(DATASET, DATASET_SPLIT)\n",
    "print(CATEGORIES)"
   ]
  },
  {
   "cell_type": "code",
   "execution_count": 14,
   "id": "c7388910",
   "metadata": {},
   "outputs": [
    {
     "name": "stdout",
     "output_type": "stream",
     "text": [
      "Processing percentage: 0%\n"
     ]
    },
    {
     "name": "stderr",
     "output_type": "stream",
     "text": [
      "d:\\uni_work_new\\MT_JU_Masterarbeit\\MT_JU_XAI_traffic_signs\\Code\\utils.py:56: RuntimeWarning: invalid value encountered in divide\n",
      "  return np.nan_to_num((img-img.min())/(img.max()-img.min()), nan=0.0, posinf=0.0,neginf=0.0)\n"
     ]
    },
    {
     "name": "stdout",
     "output_type": "stream",
     "text": [
      "Processing percentage: 10%\n",
      "Processing percentage: 20%\n",
      "Processing percentage: 30%\n",
      "Processing percentage: 40%\n",
      "Processing percentage: 50%\n",
      "Processing percentage: 60%\n",
      "Processing percentage: 70%\n",
      "Processing percentage: 80%\n",
      "Processing percentage: 90%\n",
      "Processing percentage: 100%\n"
     ]
    }
   ],
   "source": [
    "generate_adversarial_examples(\n",
    "    adv_folder=ADV_FOLDER,\n",
    "    pct_range=range(0, 101, 10),\n",
    "    categories=CATEGORIES,\n",
    "    imagedict=imagedict,\n",
    "    img_path=IMAGES_PATH,\n",
    "    background_dir=BACKGROUND_DIR,\n",
    "    xai_dir=XAI_DIR,\n",
    "    mask_condition=lambda adv_mask: adv_mask == 1\n",
    ")"
   ]
  },
  {
   "cell_type": "code",
   "execution_count": null,
   "id": "0ced0d1a",
   "metadata": {},
   "outputs": [],
   "source": [
    "im1_raw = np.load(XAI_DIR + \"00001/mask/000035.png.npy\")\n",
    "\n",
    "im2_raw = Image.open(GROUND_TRUTH_DIR + \"/00001/000035.png\")\n",
    "im3_raw = Image.open(BACKGROUND_DIR + \"/00001/000035.png\")\n",
    "im4_raw = Image.open(DATASET_DIR + \"/00001/000035.png\")\n",
    "im1 = np.array(np.array(im1_raw))\n",
    "im4 = np.array(im4_raw)\n",
    "im3 = np.array(im3_raw)\n",
    "im2 = np.array(im2_raw)/255\n",
    "im2_gs = np.array(im2_raw.convert('L'))"
   ]
  },
  {
   "cell_type": "code",
   "execution_count": null,
   "id": "1df66026",
   "metadata": {},
   "outputs": [],
   "source": [
    "fig, axes = plt.subplots(2, 2, figsize=(8, 8))\n",
    "\n",
    "axes[0, 0].imshow(im1)\n",
    "axes[0, 0].axis('off')  # remove axis\n",
    "\n",
    "axes[0, 1].imshow(im2)\n",
    "axes[0, 1].axis('off')  # remove axis\n",
    "\n",
    "axes[1, 0].imshow(im3)\n",
    "axes[1, 0].axis('off')  # remove axis\n",
    "\n",
    "axes[1, 1].imshow(im4)\n",
    "axes[1, 1].axis('off')  # remove axis\n",
    "\n",
    "plt.show()\n"
   ]
  }
 ],
 "metadata": {
  "kernelspec": {
   "display_name": "base",
   "language": "python",
   "name": "python3"
  },
  "language_info": {
   "codemirror_mode": {
    "name": "ipython",
    "version": 3
   },
   "file_extension": ".py",
   "mimetype": "text/x-python",
   "name": "python",
   "nbconvert_exporter": "python",
   "pygments_lexer": "ipython3",
   "version": "3.12.4"
  }
 },
 "nbformat": 4,
 "nbformat_minor": 5
}
